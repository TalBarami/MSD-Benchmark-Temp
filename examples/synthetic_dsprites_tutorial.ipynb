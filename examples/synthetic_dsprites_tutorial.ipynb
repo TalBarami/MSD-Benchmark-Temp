{
 "cells": [
  {
   "cell_type": "markdown",
   "id": "95dc6d44",
   "metadata": {},
   "source": [
    "# Creating a Synthetic Video Dataset Variant"
   ]
  },
  {
   "cell_type": "markdown",
   "id": "daf164c4",
   "metadata": {},
   "source": [
    "\n",
    "This notebook demonstrates how to define a new synthetic video dataset using the `Factor`, `FactorSpace`, `StateMapper`, and `VideoGenerator` components from the Multi-factor Sequential Disentanglement (MSD) benchmark.\n",
    "\n",
    "We will walk through:\n",
    "1. Loading and wrapping the `dSprites` dataset.\n",
    "2. Defining static and dynamic latent factors.\n",
    "3. Creating synthetic videos using interpretable factor combinations.\n",
    "4. Saving the generated dataset to an HDF5 file.\n"
   ]
  },
  {
   "cell_type": "markdown",
   "id": "03b6b75b",
   "metadata": {},
   "source": [
    "## Step 1: Load and Wrap the dSprites Dataset"
   ]
  },
  {
   "metadata": {},
   "cell_type": "markdown",
   "source": [
    "To begin, download the original static dSprites dataset from the official [DeepMind GitHub repository](https://github.com/google-deepmind/dsprites-dataset). The dataset contains grayscale 2D images of shapes (squares, ellipses, hearts) varying along interpretable latent factors such as shape, scale, orientation, position X/Y.\n",
    "\n",
    "In this tutorial, we use a wrapper class called `dSpritesColored`, which adds color overlays to the original grayscale images using a pre-defined list of named colors. This is useful for increasing visual variability while maintaining full control over the latent structure.\n",
    "\n",
    "The `dSpritesColored` class is a concrete implementation of the `StateMapper` interface, which only requires three components:\n",
    "- A list of `Factor` objects defining the labeled latent space,\n",
    "- An array of data points (e.g., images),\n",
    "- A corresponding array of labels (with one label per data point, expressed as factor indices).\n",
    "\n",
    "Users can implement custom `StateMapper` subclasses for any other dataset or rendering logic, as long as it supports retrieval via `__getitem__(factor_dict)`.\n",
    "\n"
   ],
   "id": "3b4c1b04cd47b914"
  },
  {
   "cell_type": "code",
   "id": "4d03cbe0",
   "metadata": {
    "ExecuteTime": {
     "end_time": "2025-05-13T07:17:15.065990Z",
     "start_time": "2025-05-13T07:16:59.305181Z"
    }
   },
   "source": [
    "import sys\n",
    "sys.path.append('./research/MSD-Benchmark')\n",
    "\n",
    "\n",
    "import numpy as np\n",
    "from msd.data.datasets.dsprites import dSpritesColored\n",
    "from msd.data.visualization import plot_sequence, plot_image\n",
    "\n",
    "# Path to the dSprites dataset (.npz format)\n",
    "# dsprites_file = \"path/to/dsprites_ndarray_co1sh3sc6or40x32y32_64x64.npz\"\n",
    "dsprites_file = \"/cs/cs_groups/azencot_group/MSD/datasets/dsprites/dsprites_ndarray_co1sh3sc6or40x32y32_64x64.npz\"\n",
    "\n",
    "# Load the dataset with color augmentation\n",
    "mapper = dSpritesColored(dsprites_file)\n",
    "print(\"Available factors:\", mapper.factors.names)\n"
   ],
   "outputs": [
    {
     "name": "stdout",
     "output_type": "stream",
     "text": [
      "Available factors: ['color', 'shape', 'scale', 'orientation', 'posX', 'posY']\n"
     ]
    }
   ],
   "execution_count": 2
  },
  {
   "metadata": {
    "ExecuteTime": {
     "end_time": "2025-05-13T07:18:55.246889Z",
     "start_time": "2025-05-13T07:18:55.218017Z"
    }
   },
   "cell_type": "code",
   "source": [
    "x = mapper[{'color': 0, 'shape': 0, 'scale': 0, 'orientation': 0, 'posX': 0, 'posY': 0}]\n",
    "plot_image(x)\n",
    "print(x.shape, x.dtype)"
   ],
   "id": "d8335efcff8699a3",
   "outputs": [
    {
     "data": {
      "text/plain": [
       "<Figure size 640x480 with 1 Axes>"
      ],
      "image/png": "[encoded data removed]"
     },
     "metadata": {},
     "output_type": "display_data"
    },
    {
     "name": "stdout",
     "output_type": "stream",
     "text": [
      "(3, 64, 64) uint8\n"
     ]
    }
   ],
   "execution_count": 14
  },
  {
   "cell_type": "markdown",
   "id": "eee3c0b9",
   "metadata": {},
   "source": "## Step 2: Define Static Factors"
  },
  {
   "metadata": {},
   "cell_type": "markdown",
   "source": [
    "\n",
    "We'll choose a subset of factors to remain fixed throughout the video. \n",
    "For positions (posX/posY), we subsample to reduce the total number of combinations.\n"
   ],
   "id": "a2b27e5255e35898"
  },
  {
   "metadata": {
    "ExecuteTime": {
     "end_time": "2025-05-13T07:19:28.085531Z",
     "start_time": "2025-05-13T07:19:28.081339Z"
    }
   },
   "cell_type": "code",
   "source": [
    "\n",
    "from msd.data.datasets.synthetic_video_generation.factor_space import FactorSpace\n",
    "\n",
    "factors = mapper.factors\n",
    "\n",
    "static_factors = FactorSpace([\n",
    "    factors['color'][:],\n",
    "    factors['shape'][:],\n",
    "    factors['posX'][2::4],\n",
    "    factors['posY'][2::4],\n",
    "])\n",
    "static_factors\n"
   ],
   "id": "8d78729d27bd27d6",
   "outputs": [
    {
     "data": {
      "text/plain": [
       "FactorSpace(StaticFactor(name=color, values={0: 0, 1: 1, 2: 2, 3: 3, 4: 4, 5: 5, 6: 6, 7: 7, 8: 8}, type=static)\n",
       "StaticFactor(name=shape, values={0: 0, 1: 1, 2: 2}, type=static)\n",
       "StaticFactor(name=posX, values={0: 2, 1: 6, 2: 10, 3: 14, 4: 18, 5: 22, 6: 26, 7: 30}, type=static)\n",
       "StaticFactor(name=posY, values={0: 2, 1: 6, 2: 10, 3: 14, 4: 18, 5: 22, 6: 26, 7: 30}, type=static))"
      ]
     },
     "execution_count": 16,
     "metadata": {},
     "output_type": "execute_result"
    }
   ],
   "execution_count": 16
  },
  {
   "cell_type": "markdown",
   "id": "ec3a0418",
   "metadata": {},
   "source": "## Step 3: Define Dynamic Factors"
  },
  {
   "metadata": {},
   "cell_type": "markdown",
   "source": [
    "Dynamic factors describe how certain attributes evolve over time. In our case, dynamic factors are derived from static factors by applying predefined temporal patterns to their label values.\n",
    "\n",
    "For example, we can take a static factor like `scale` and define how it should change over a sequence of frames—such as increasing, decreasing, or oscillating. These temporal patterns are expressed using `Sequence` objects, such as:\n",
    "\n",
    "- `HarmonicSequence`: Loops a sequence forward and then backward in a mirrored pattern. For example, `[0, 1, 2]` becomes `[0, 1, 2, 1, 0, 1, ...]`, and repeats.\n",
    "- `CyclicSequence`: Repeats the given sequence in a fixed cycle. For example, `[0, 1, 2]` becomes `[0, 1, 2, 0, 1, 2, ...]`.\n",
    "\n",
    "This allows us to build richly varying video data with interpretable and controllable motion or transformation over time.\n"
   ],
   "id": "9521d8870e99ca31"
  },
  {
   "metadata": {
    "ExecuteTime": {
     "end_time": "2025-05-13T07:19:35.371558Z",
     "start_time": "2025-05-13T07:19:35.365219Z"
    }
   },
   "cell_type": "code",
   "source": [
    "\n",
    "from msd.data.datasets.synthetic_video_generation.factor import HarmonicSequence, CyclicSequence\n",
    "\n",
    "n_scale = len(factors['scale'])\n",
    "n_orient = len(factors['orientation'])\n",
    "\n",
    "dynamic_factors = FactorSpace([\n",
    "    factors['scale'].to_dynamic({\n",
    "        'increasing_1x': HarmonicSequence(np.arange(0, n_scale, 1)),\n",
    "        'decreasing_1x': HarmonicSequence(np.arange(n_scale-1, -1, -1)),\n",
    "        'increasing_2x': HarmonicSequence(np.arange(0, n_scale, 2)),\n",
    "        'decreasing_2x': HarmonicSequence(np.arange(n_scale-1, -1, -2)),\n",
    "    }),\n",
    "    factors['orientation'].to_dynamic({\n",
    "        'counterclockwise': CyclicSequence(np.arange(0, n_orient, 2)),\n",
    "        'static': CyclicSequence([0]),\n",
    "        'clockwise': CyclicSequence(np.roll(np.arange(0, n_orient, 2)[::-1], 1)),\n",
    "    })\n",
    "])\n",
    "dynamic_factors\n"
   ],
   "id": "38b826e2019c2de3",
   "outputs": [
    {
     "data": {
      "text/plain": [
       "FactorSpace(DynamicFactor(name=scale_dynamic, values={0: 'increasing_1x', 1: 'decreasing_1x', 2: 'increasing_2x', 3: 'decreasing_2x'}, type=dynamic, dynamics=(Sequence([0 1 2 3 4 5 4 3 2 1]), Sequence([5 4 3 2 1 0 1 2 3 4]), Sequence([0 2 4 2]), Sequence([5 3 1 3])))\n",
       "DynamicFactor(name=orientation_dynamic, values={0: 'counterclockwise', 1: 'static', 2: 'clockwise'}, type=dynamic, dynamics=(Sequence([ 0  2  4  6  8 10 12 14 16 18 20 22 24 26 28 30 32 34 36 38]), Sequence([0]), Sequence([ 0 38 36 34 32 30 28 26 24 22 20 18 16 14 12 10  8  6  4  2]))))"
      ]
     },
     "execution_count": 17,
     "metadata": {},
     "output_type": "execute_result"
    }
   ],
   "execution_count": 17
  },
  {
   "metadata": {},
   "cell_type": "markdown",
   "source": "## Step 4: Initialize the Video Generator",
   "id": "d5b97bd6829b9917"
  },
  {
   "metadata": {},
   "cell_type": "markdown",
   "source": [
    "To generate sequences of images over time, we use the `VideoGenerator` class. It constructs a synthetic video dataset by iterating over all combinations of static and dynamic factor labels.\n",
    "\n",
    "To initialize it, we provide:\n",
    "\n",
    "- **`state_mapper`** – An instance of `StateMapper` (in our case, `dSpritesColored`) which maps factor configurations to the corresponding image.\n",
    "- **`static_factors`** – A `FactorSpace` object specifying which factors remain constant during each sequence.\n",
    "- **`dynamic_factors`** – A `FactorSpace` object that defines how certain factors change over time via temporal sequences.\n",
    "- **`T`** – The number of frames per video sequence.\n",
    "\n",
    "The generator traverses the full Cartesian product of static and dynamic factor labels to produce a dataset of interpretable, temporally varying videos.\n"
   ],
   "id": "e0c05492560f6516"
  },
  {
   "metadata": {
    "ExecuteTime": {
     "end_time": "2025-05-13T07:21:53.475403Z",
     "start_time": "2025-05-13T07:21:53.456859Z"
    }
   },
   "cell_type": "code",
   "source": [
    "\n",
    "from msd.data.datasets.synthetic_video_generation.video_generator import VideoGenerator\n",
    "\n",
    "T = 16  # number of frames per sequence\n",
    "generator = VideoGenerator(\n",
    "    state_mapper=mapper,\n",
    "    static_factors=static_factors,\n",
    "    dynamic_factors=dynamic_factors,\n",
    "    T=T\n",
    ")\n",
    "\n",
    "print(\"Total number of sequences:\", len(generator))\n"
   ],
   "id": "daff39f21f25769a",
   "outputs": [
    {
     "name": "stdout",
     "output_type": "stream",
     "text": [
      "Total number of sequences: 20736\n"
     ]
    }
   ],
   "execution_count": 19
  },
  {
   "cell_type": "markdown",
   "id": "ffd72dbb",
   "metadata": {},
   "source": "## Step 5: Visualize a Generated Video"
  },
  {
   "metadata": {},
   "cell_type": "markdown",
   "source": [
    "\n",
    "Let's render a single synthetic sequence and display it frame by frame.\n"
   ],
   "id": "2775df7774edd3ef"
  },
  {
   "metadata": {
    "ExecuteTime": {
     "end_time": "2025-05-13T07:21:55.444816Z",
     "start_time": "2025-05-13T07:21:55.260767Z"
    }
   },
   "cell_type": "code",
   "source": [
    "video = generator[0]\n",
    "plot_sequence(video)\n",
    "print(video.shape, video.dtype)\n"
   ],
   "id": "5e02223ee6c1fa1d",
   "outputs": [
    {
     "data": {
      "text/plain": [
       "<Figure size 1600x100 with 16 Axes>"
      ],
      "image/png": "[encoded data removed]"
     },
     "metadata": {},
     "output_type": "display_data"
    },
    {
     "name": "stdout",
     "output_type": "stream",
     "text": [
      "(16, 3, 64, 64) uint8\n"
     ]
    }
   ],
   "execution_count": 20
  },
  {
   "cell_type": "markdown",
   "id": "f76222dc",
   "metadata": {},
   "source": "## Step 6: Save the Full Dataset"
  },
  {
   "metadata": {},
   "cell_type": "markdown",
   "source": [
    "\n",
    "Finally, we save the full set of generated sequences, including metadata, labels, and splits.\n"
   ],
   "id": "2fa4a4951e4c1bb7"
  },
  {
   "metadata": {},
   "cell_type": "code",
   "outputs": [],
   "execution_count": null,
   "source": [
    "out_path = \"synthetic_dsprites_variant.h5\"\n",
    "generator.create_dataset(out_path)"
   ],
   "id": "4dcc800ffd4f4c9c"
  }
 ],
 "metadata": {
  "kernelspec": {
   "name": "python3",
   "language": "python",
   "display_name": "Python 3 (ipykernel)"
  }
 },
 "nbformat": 4,
 "nbformat_minor": 5
}
